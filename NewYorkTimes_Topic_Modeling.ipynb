{
 "cells": [
  {
   "cell_type": "code",
   "execution_count": 1,
   "metadata": {},
   "outputs": [],
   "source": [
    "import pandas as pd\n",
    "import numpy as np\n",
    "import re\n",
    "import string\n",
    "import nltk\n",
    "import matplotlib.pyplot as plt\n",
    "import pickle\n",
    "import seaborn as sns"
   ]
  },
  {
   "cell_type": "code",
   "execution_count": 2,
   "metadata": {},
   "outputs": [],
   "source": [
    "data = pd.read_csv('ArticlesApril2017.csv')"
   ]
  },
  {
   "cell_type": "code",
   "execution_count": 3,
   "metadata": {},
   "outputs": [
    {
     "data": {
      "text/html": [
       "<div>\n",
       "<style scoped>\n",
       "    .dataframe tbody tr th:only-of-type {\n",
       "        vertical-align: middle;\n",
       "    }\n",
       "\n",
       "    .dataframe tbody tr th {\n",
       "        vertical-align: top;\n",
       "    }\n",
       "\n",
       "    .dataframe thead th {\n",
       "        text-align: right;\n",
       "    }\n",
       "</style>\n",
       "<table border=\"1\" class=\"dataframe\">\n",
       "  <thead>\n",
       "    <tr style=\"text-align: right;\">\n",
       "      <th></th>\n",
       "      <th>abstract</th>\n",
       "      <th>articleID</th>\n",
       "      <th>articleWordCount</th>\n",
       "      <th>byline</th>\n",
       "      <th>documentType</th>\n",
       "      <th>headline</th>\n",
       "      <th>keywords</th>\n",
       "      <th>multimedia</th>\n",
       "      <th>newDesk</th>\n",
       "      <th>printPage</th>\n",
       "      <th>pubDate</th>\n",
       "      <th>sectionName</th>\n",
       "      <th>snippet</th>\n",
       "      <th>source</th>\n",
       "      <th>typeOfMaterial</th>\n",
       "      <th>webURL</th>\n",
       "    </tr>\n",
       "  </thead>\n",
       "  <tbody>\n",
       "    <tr>\n",
       "      <th>0</th>\n",
       "      <td>NaN</td>\n",
       "      <td>58def1347c459f24986d7c80</td>\n",
       "      <td>716</td>\n",
       "      <td>By STEPHEN HILTNER and SUSAN LEHMAN</td>\n",
       "      <td>article</td>\n",
       "      <td>Finding an Expansive View  of a Forgotten Peop...</td>\n",
       "      <td>['Photography', 'New York Times', 'Niger', 'Fe...</td>\n",
       "      <td>3</td>\n",
       "      <td>Insider</td>\n",
       "      <td>2</td>\n",
       "      <td>2017-04-01 00:15:41</td>\n",
       "      <td>Unknown</td>\n",
       "      <td>One of the largest photo displays in Times his...</td>\n",
       "      <td>The New York Times</td>\n",
       "      <td>News</td>\n",
       "      <td>https://www.nytimes.com/2017/03/31/insider/nig...</td>\n",
       "    </tr>\n",
       "    <tr>\n",
       "      <th>1</th>\n",
       "      <td>NaN</td>\n",
       "      <td>58def3237c459f24986d7c84</td>\n",
       "      <td>823</td>\n",
       "      <td>By GAIL COLLINS</td>\n",
       "      <td>article</td>\n",
       "      <td>And Now,  the Dreaded Trump Curse</td>\n",
       "      <td>['United States Politics and Government', 'Tru...</td>\n",
       "      <td>3</td>\n",
       "      <td>OpEd</td>\n",
       "      <td>23</td>\n",
       "      <td>2017-04-01 00:23:58</td>\n",
       "      <td>Unknown</td>\n",
       "      <td>Meet the gang from under the bus.</td>\n",
       "      <td>The New York Times</td>\n",
       "      <td>Op-Ed</td>\n",
       "      <td>https://www.nytimes.com/2017/03/31/opinion/and...</td>\n",
       "    </tr>\n",
       "    <tr>\n",
       "      <th>2</th>\n",
       "      <td>NaN</td>\n",
       "      <td>58def9f57c459f24986d7c90</td>\n",
       "      <td>575</td>\n",
       "      <td>By THE EDITORIAL BOARD</td>\n",
       "      <td>article</td>\n",
       "      <td>Venezuela’s Descent Into Dictatorship</td>\n",
       "      <td>['Venezuela', 'Politics and Government', 'Madu...</td>\n",
       "      <td>3</td>\n",
       "      <td>Editorial</td>\n",
       "      <td>22</td>\n",
       "      <td>2017-04-01 00:53:06</td>\n",
       "      <td>Unknown</td>\n",
       "      <td>A court ruling annulling the legislature’s aut...</td>\n",
       "      <td>The New York Times</td>\n",
       "      <td>Editorial</td>\n",
       "      <td>https://www.nytimes.com/2017/03/31/opinion/ven...</td>\n",
       "    </tr>\n",
       "  </tbody>\n",
       "</table>\n",
       "</div>"
      ],
      "text/plain": [
       "  abstract                 articleID  articleWordCount  \\\n",
       "0      NaN  58def1347c459f24986d7c80               716   \n",
       "1      NaN  58def3237c459f24986d7c84               823   \n",
       "2      NaN  58def9f57c459f24986d7c90               575   \n",
       "\n",
       "                                byline documentType  \\\n",
       "0  By STEPHEN HILTNER and SUSAN LEHMAN      article   \n",
       "1                      By GAIL COLLINS      article   \n",
       "2               By THE EDITORIAL BOARD      article   \n",
       "\n",
       "                                            headline  \\\n",
       "0  Finding an Expansive View  of a Forgotten Peop...   \n",
       "1                  And Now,  the Dreaded Trump Curse   \n",
       "2              Venezuela’s Descent Into Dictatorship   \n",
       "\n",
       "                                            keywords  multimedia    newDesk  \\\n",
       "0  ['Photography', 'New York Times', 'Niger', 'Fe...           3    Insider   \n",
       "1  ['United States Politics and Government', 'Tru...           3       OpEd   \n",
       "2  ['Venezuela', 'Politics and Government', 'Madu...           3  Editorial   \n",
       "\n",
       "   printPage              pubDate sectionName  \\\n",
       "0          2  2017-04-01 00:15:41     Unknown   \n",
       "1         23  2017-04-01 00:23:58     Unknown   \n",
       "2         22  2017-04-01 00:53:06     Unknown   \n",
       "\n",
       "                                             snippet              source  \\\n",
       "0  One of the largest photo displays in Times his...  The New York Times   \n",
       "1                  Meet the gang from under the bus.  The New York Times   \n",
       "2  A court ruling annulling the legislature’s aut...  The New York Times   \n",
       "\n",
       "  typeOfMaterial                                             webURL  \n",
       "0           News  https://www.nytimes.com/2017/03/31/insider/nig...  \n",
       "1          Op-Ed  https://www.nytimes.com/2017/03/31/opinion/and...  \n",
       "2      Editorial  https://www.nytimes.com/2017/03/31/opinion/ven...  "
      ]
     },
     "execution_count": 3,
     "metadata": {},
     "output_type": "execute_result"
    }
   ],
   "source": [
    "data.head(3)"
   ]
  },
  {
   "cell_type": "code",
   "execution_count": 4,
   "metadata": {},
   "outputs": [
    {
     "data": {
      "text/plain": [
       "abstract            864\n",
       "articleID             0\n",
       "articleWordCount      0\n",
       "byline                0\n",
       "documentType          0\n",
       "headline              0\n",
       "keywords              0\n",
       "multimedia            0\n",
       "newDesk               0\n",
       "printPage             0\n",
       "pubDate               0\n",
       "sectionName           0\n",
       "snippet               0\n",
       "source                0\n",
       "typeOfMaterial        0\n",
       "webURL                0\n",
       "dtype: int64"
      ]
     },
     "execution_count": 4,
     "metadata": {},
     "output_type": "execute_result"
    }
   ],
   "source": [
    "data.isnull().sum()"
   ]
  },
  {
   "cell_type": "code",
   "execution_count": 5,
   "metadata": {},
   "outputs": [
    {
     "data": {
      "text/html": [
       "<div>\n",
       "<style scoped>\n",
       "    .dataframe tbody tr th:only-of-type {\n",
       "        vertical-align: middle;\n",
       "    }\n",
       "\n",
       "    .dataframe tbody tr th {\n",
       "        vertical-align: top;\n",
       "    }\n",
       "\n",
       "    .dataframe thead th {\n",
       "        text-align: right;\n",
       "    }\n",
       "</style>\n",
       "<table border=\"1\" class=\"dataframe\">\n",
       "  <thead>\n",
       "    <tr style=\"text-align: right;\">\n",
       "      <th></th>\n",
       "      <th>articleWordCount</th>\n",
       "      <th>multimedia</th>\n",
       "      <th>printPage</th>\n",
       "    </tr>\n",
       "  </thead>\n",
       "  <tbody>\n",
       "    <tr>\n",
       "      <th>count</th>\n",
       "      <td>886.000000</td>\n",
       "      <td>886.000000</td>\n",
       "      <td>886.000000</td>\n",
       "    </tr>\n",
       "    <tr>\n",
       "      <th>mean</th>\n",
       "      <td>1093.505643</td>\n",
       "      <td>3.857788</td>\n",
       "      <td>7.635440</td>\n",
       "    </tr>\n",
       "    <tr>\n",
       "      <th>std</th>\n",
       "      <td>799.095918</td>\n",
       "      <td>7.891072</td>\n",
       "      <td>10.809874</td>\n",
       "    </tr>\n",
       "    <tr>\n",
       "      <th>min</th>\n",
       "      <td>57.000000</td>\n",
       "      <td>0.000000</td>\n",
       "      <td>0.000000</td>\n",
       "    </tr>\n",
       "    <tr>\n",
       "      <th>25%</th>\n",
       "      <td>708.500000</td>\n",
       "      <td>3.000000</td>\n",
       "      <td>0.000000</td>\n",
       "    </tr>\n",
       "    <tr>\n",
       "      <th>50%</th>\n",
       "      <td>982.500000</td>\n",
       "      <td>3.000000</td>\n",
       "      <td>2.000000</td>\n",
       "    </tr>\n",
       "    <tr>\n",
       "      <th>75%</th>\n",
       "      <td>1291.750000</td>\n",
       "      <td>3.000000</td>\n",
       "      <td>13.000000</td>\n",
       "    </tr>\n",
       "    <tr>\n",
       "      <th>max</th>\n",
       "      <td>7832.000000</td>\n",
       "      <td>68.000000</td>\n",
       "      <td>74.000000</td>\n",
       "    </tr>\n",
       "  </tbody>\n",
       "</table>\n",
       "</div>"
      ],
      "text/plain": [
       "       articleWordCount  multimedia   printPage\n",
       "count        886.000000  886.000000  886.000000\n",
       "mean        1093.505643    3.857788    7.635440\n",
       "std          799.095918    7.891072   10.809874\n",
       "min           57.000000    0.000000    0.000000\n",
       "25%          708.500000    3.000000    0.000000\n",
       "50%          982.500000    3.000000    2.000000\n",
       "75%         1291.750000    3.000000   13.000000\n",
       "max         7832.000000   68.000000   74.000000"
      ]
     },
     "execution_count": 5,
     "metadata": {},
     "output_type": "execute_result"
    }
   ],
   "source": [
    "data.describe()"
   ]
  },
  {
   "cell_type": "code",
   "execution_count": 6,
   "metadata": {},
   "outputs": [
    {
     "name": "stderr",
     "output_type": "stream",
     "text": [
      "C:\\Users\\atuls\\Anaconda3\\lib\\site-packages\\scipy\\stats\\stats.py:1713: FutureWarning: Using a non-tuple sequence for multidimensional indexing is deprecated; use `arr[tuple(seq)]` instead of `arr[seq]`. In the future this will be interpreted as an array index, `arr[np.array(seq)]`, which will result either in an error or a different result.\n",
      "  return np.add.reduce(sorted[indexer] * weights, axis=axis) / sumval\n"
     ]
    },
    {
     "data": {
      "text/plain": [
       "<matplotlib.axes._subplots.AxesSubplot at 0x192e95eb748>"
      ]
     },
     "execution_count": 6,
     "metadata": {},
     "output_type": "execute_result"
    },
    {
     "data": {
      "image/png": "[encoded data removed]",
      "text/plain": [
       "<Figure size 432x288 with 1 Axes>"
      ]
     },
     "metadata": {
      "needs_background": "light"
     },
     "output_type": "display_data"
    }
   ],
   "source": [
    "sns.distplot(data['articleWordCount'])"
   ]
  },
  {
   "cell_type": "code",
   "execution_count": 7,
   "metadata": {},
   "outputs": [
    {
     "data": {
      "text/html": [
       "<div>\n",
       "<style scoped>\n",
       "    .dataframe tbody tr th:only-of-type {\n",
       "        vertical-align: middle;\n",
       "    }\n",
       "\n",
       "    .dataframe tbody tr th {\n",
       "        vertical-align: top;\n",
       "    }\n",
       "\n",
       "    .dataframe thead th {\n",
       "        text-align: right;\n",
       "    }\n",
       "</style>\n",
       "<table border=\"1\" class=\"dataframe\">\n",
       "  <thead>\n",
       "    <tr style=\"text-align: right;\">\n",
       "      <th></th>\n",
       "      <th>headline</th>\n",
       "      <th>keywords</th>\n",
       "      <th>snippet</th>\n",
       "    </tr>\n",
       "  </thead>\n",
       "  <tbody>\n",
       "    <tr>\n",
       "      <th>0</th>\n",
       "      <td>Finding an Expansive View  of a Forgotten Peop...</td>\n",
       "      <td>['Photography', 'New York Times', 'Niger', 'Fe...</td>\n",
       "      <td>One of the largest photo displays in Times his...</td>\n",
       "    </tr>\n",
       "    <tr>\n",
       "      <th>1</th>\n",
       "      <td>And Now,  the Dreaded Trump Curse</td>\n",
       "      <td>['United States Politics and Government', 'Tru...</td>\n",
       "      <td>Meet the gang from under the bus.</td>\n",
       "    </tr>\n",
       "    <tr>\n",
       "      <th>2</th>\n",
       "      <td>Venezuela’s Descent Into Dictatorship</td>\n",
       "      <td>['Venezuela', 'Politics and Government', 'Madu...</td>\n",
       "      <td>A court ruling annulling the legislature’s aut...</td>\n",
       "    </tr>\n",
       "    <tr>\n",
       "      <th>3</th>\n",
       "      <td>Stain Permeates Basketball Blue Blood</td>\n",
       "      <td>['Basketball (College)', 'University of North ...</td>\n",
       "      <td>For two decades, until 2013, North Carolina en...</td>\n",
       "    </tr>\n",
       "    <tr>\n",
       "      <th>4</th>\n",
       "      <td>Taking Things for Granted</td>\n",
       "      <td>['Crossword Puzzles']</td>\n",
       "      <td>In which Howard Barkin and Will Shortz teach u...</td>\n",
       "    </tr>\n",
       "  </tbody>\n",
       "</table>\n",
       "</div>"
      ],
      "text/plain": [
       "                                            headline  \\\n",
       "0  Finding an Expansive View  of a Forgotten Peop...   \n",
       "1                  And Now,  the Dreaded Trump Curse   \n",
       "2              Venezuela’s Descent Into Dictatorship   \n",
       "3              Stain Permeates Basketball Blue Blood   \n",
       "4                          Taking Things for Granted   \n",
       "\n",
       "                                            keywords  \\\n",
       "0  ['Photography', 'New York Times', 'Niger', 'Fe...   \n",
       "1  ['United States Politics and Government', 'Tru...   \n",
       "2  ['Venezuela', 'Politics and Government', 'Madu...   \n",
       "3  ['Basketball (College)', 'University of North ...   \n",
       "4                              ['Crossword Puzzles']   \n",
       "\n",
       "                                             snippet  \n",
       "0  One of the largest photo displays in Times his...  \n",
       "1                  Meet the gang from under the bus.  \n",
       "2  A court ruling annulling the legislature’s aut...  \n",
       "3  For two decades, until 2013, North Carolina en...  \n",
       "4  In which Howard Barkin and Will Shortz teach u...  "
      ]
     },
     "execution_count": 7,
     "metadata": {},
     "output_type": "execute_result"
    }
   ],
   "source": [
    "text=data[['headline', 'keywords', 'snippet']]\n",
    "text.head(5)"
   ]
  },
  {
   "cell_type": "code",
   "execution_count": 8,
   "metadata": {},
   "outputs": [
    {
     "data": {
      "text/plain": [
       "['Finding an Expansive View  of a Forgotten People in Niger One of the largest photo displays in Times history, of people who have fled Boko Haram, required an effort just as immense.',\n",
       " 'And Now,  the Dreaded Trump Curse Meet the gang from under the bus.',\n",
       " 'Venezuela’s Descent Into Dictatorship A court ruling annulling the legislature’s authority represents a dangerous turning point for Venezuela.']"
      ]
     },
     "execution_count": 8,
     "metadata": {},
     "output_type": "execute_result"
    }
   ],
   "source": [
    "combined = []\n",
    "\n",
    "for i in text.index:\n",
    "    combined.append((text['headline'][i]+\" \"+text['snippet'][i]))\n",
    "    \n",
    "combined[:3]"
   ]
  },
  {
   "cell_type": "code",
   "execution_count": 9,
   "metadata": {},
   "outputs": [
    {
     "name": "stderr",
     "output_type": "stream",
     "text": [
      "C:\\Users\\atuls\\Anaconda3\\lib\\site-packages\\ipykernel_launcher.py:1: SettingWithCopyWarning: \n",
      "A value is trying to be set on a copy of a slice from a DataFrame.\n",
      "Try using .loc[row_indexer,col_indexer] = value instead\n",
      "\n",
      "See the caveats in the documentation: http://pandas.pydata.org/pandas-docs/stable/indexing.html#indexing-view-versus-copy\n",
      "  \"\"\"Entry point for launching an IPython kernel.\n"
     ]
    },
    {
     "data": {
      "text/html": [
       "<div>\n",
       "<style scoped>\n",
       "    .dataframe tbody tr th:only-of-type {\n",
       "        vertical-align: middle;\n",
       "    }\n",
       "\n",
       "    .dataframe tbody tr th {\n",
       "        vertical-align: top;\n",
       "    }\n",
       "\n",
       "    .dataframe thead th {\n",
       "        text-align: right;\n",
       "    }\n",
       "</style>\n",
       "<table border=\"1\" class=\"dataframe\">\n",
       "  <thead>\n",
       "    <tr style=\"text-align: right;\">\n",
       "      <th></th>\n",
       "      <th>headline</th>\n",
       "      <th>keywords</th>\n",
       "      <th>snippet</th>\n",
       "      <th>combined</th>\n",
       "    </tr>\n",
       "  </thead>\n",
       "  <tbody>\n",
       "    <tr>\n",
       "      <th>0</th>\n",
       "      <td>Finding an Expansive View  of a Forgotten Peop...</td>\n",
       "      <td>['Photography', 'New York Times', 'Niger', 'Fe...</td>\n",
       "      <td>One of the largest photo displays in Times his...</td>\n",
       "      <td>Finding an Expansive View  of a Forgotten Peop...</td>\n",
       "    </tr>\n",
       "    <tr>\n",
       "      <th>1</th>\n",
       "      <td>And Now,  the Dreaded Trump Curse</td>\n",
       "      <td>['United States Politics and Government', 'Tru...</td>\n",
       "      <td>Meet the gang from under the bus.</td>\n",
       "      <td>And Now,  the Dreaded Trump Curse Meet the gan...</td>\n",
       "    </tr>\n",
       "    <tr>\n",
       "      <th>2</th>\n",
       "      <td>Venezuela’s Descent Into Dictatorship</td>\n",
       "      <td>['Venezuela', 'Politics and Government', 'Madu...</td>\n",
       "      <td>A court ruling annulling the legislature’s aut...</td>\n",
       "      <td>Venezuela’s Descent Into Dictatorship A court ...</td>\n",
       "    </tr>\n",
       "  </tbody>\n",
       "</table>\n",
       "</div>"
      ],
      "text/plain": [
       "                                            headline  \\\n",
       "0  Finding an Expansive View  of a Forgotten Peop...   \n",
       "1                  And Now,  the Dreaded Trump Curse   \n",
       "2              Venezuela’s Descent Into Dictatorship   \n",
       "\n",
       "                                            keywords  \\\n",
       "0  ['Photography', 'New York Times', 'Niger', 'Fe...   \n",
       "1  ['United States Politics and Government', 'Tru...   \n",
       "2  ['Venezuela', 'Politics and Government', 'Madu...   \n",
       "\n",
       "                                             snippet  \\\n",
       "0  One of the largest photo displays in Times his...   \n",
       "1                  Meet the gang from under the bus.   \n",
       "2  A court ruling annulling the legislature’s aut...   \n",
       "\n",
       "                                            combined  \n",
       "0  Finding an Expansive View  of a Forgotten Peop...  \n",
       "1  And Now,  the Dreaded Trump Curse Meet the gan...  \n",
       "2  Venezuela’s Descent Into Dictatorship A court ...  "
      ]
     },
     "execution_count": 9,
     "metadata": {},
     "output_type": "execute_result"
    }
   ],
   "source": [
    "text['combined'] = combined\n",
    "text.head(3)"
   ]
  },
  {
   "cell_type": "markdown",
   "metadata": {},
   "source": [
    "## Basic Preprocessing Function"
   ]
  },
  {
   "cell_type": "code",
   "execution_count": 10,
   "metadata": {},
   "outputs": [],
   "source": [
    "def preprocess(text):\n",
    "    text = text.lower()\n",
    "    regex = re.compile(r'[%s%s]' % (string.punctuation, string.digits))\n",
    "    text = regex.sub(' ', text) \n",
    "    regex = re.compile(r'[\\s+]')\n",
    "    text = regex.sub(' ', text)\n",
    "    text = ' '.join([w for w in text.split()]) # removes extra spaces introduced by replacing punctuation with a space\n",
    "    return text"
   ]
  },
  {
   "cell_type": "code",
   "execution_count": 11,
   "metadata": {},
   "outputs": [
    {
     "data": {
      "text/plain": [
       "['finding an expansive view of a forgotten people in niger one of the largest photo displays in times history of people who have fled boko haram required an effort just as immense',\n",
       " 'and now the dreaded trump curse meet the gang from under the bus',\n",
       " 'venezuela’s descent into dictatorship a court ruling annulling the legislature’s authority represents a dangerous turning point for venezuela',\n",
       " 'stain permeates basketball blue blood for two decades until north carolina engaged in academic improprieties that benefited its student athletes the repercussions are still being felt',\n",
       " 'taking things for granted in which howard barkin and will shortz teach us a lesson']"
      ]
     },
     "execution_count": 11,
     "metadata": {},
     "output_type": "execute_result"
    }
   ],
   "source": [
    "txt_pp = [preprocess(c) for c in text['combined']]\n",
    "txt_pp[:5]"
   ]
  },
  {
   "cell_type": "code",
   "execution_count": 12,
   "metadata": {},
   "outputs": [],
   "source": [
    "from operator import itemgetter\n",
    "from nltk import FreqDist\n",
    "\n",
    "def freq_words_count(x):\n",
    "    '''Takes a list of strings and returns a list of (word, frequency) tuples'''\n",
    "    all_words = ' '.join([text for text in x])\n",
    "    all_words = all_words.split()\n",
    "    \n",
    "    dct_words={}\n",
    "    \n",
    "    fdist = FreqDist(all_words)\n",
    "    for k,v in fdist.items():\n",
    "        dct_words[k]=v\n",
    "    dct_words=sorted(dct_words.items(), key=itemgetter(1), reverse=True)\n",
    "    return dct_words\n",
    "\n",
    "import matplotlib.pyplot as plt\n",
    "%matplotlib inline\n",
    "import seaborn as sns\n",
    "\n",
    "def freq_words(x, terms = 30):\n",
    "    '''Takes a list of strings and optionally the desired number of most frequent terms.  \n",
    "    Plots a bar graph of the specified number of most frequent terms'''\n",
    "    all_words = ' '.join([text for text in x])\n",
    "    all_words = all_words.split()\n",
    " \n",
    "    fdist = FreqDist(all_words)\n",
    "    words_df = pd.DataFrame({'word':list(fdist.keys()), 'count':list(fdist.values())})\n",
    "\n",
    "  # selecting top 30 most frequent words\n",
    "    d = words_df.nlargest(columns=\"count\", n = terms) \n",
    "    plt.figure(figsize=(20,5))\n",
    "    ax = sns.barplot(data=d, x= \"word\", y = \"count\")\n",
    "    ax.set(ylabel = 'Count')\n",
    "    plt.show()"
   ]
  },
  {
   "cell_type": "code",
   "execution_count": 13,
   "metadata": {},
   "outputs": [
    {
     "data": {
      "image/png": "[encoded data removed]",
      "text/plain": [
       "<Figure size 1440x360 with 1 Axes>"
      ]
     },
     "metadata": {
      "needs_background": "light"
     },
     "output_type": "display_data"
    }
   ],
   "source": [
    "freq_words(txt_pp)"
   ]
  },
  {
   "cell_type": "code",
   "execution_count": 14,
   "metadata": {},
   "outputs": [
    {
     "name": "stdout",
     "output_type": "stream",
     "text": [
      "[('the', 1216), ('a', 791), ('of', 592), ('to', 567), ('and', 502), ('in', 417), ('for', 255), ('is', 222), ('on', 208), ('with', 160), ('that', 151), ('an', 130), ('be', 126), ('as', 119), ('new', 114), ('it', 104), ('but', 102), ('from', 100), ('at', 99), ('are', 97), ('trump', 96), ('has', 89), ('what', 87), ('by', 83), ('have', 78), ('this', 78), ('you', 76), ('not', 74), ('about', 73), ('his', 72)]\n"
     ]
    }
   ],
   "source": [
    "print(freq_words_count(txt_pp)[:30])"
   ]
  },
  {
   "cell_type": "code",
   "execution_count": 15,
   "metadata": {},
   "outputs": [],
   "source": [
    "stopwords =['the', 'a', 'of', 'to', 'and', 'in', 'for', 'is', 'on', 'with', 'that', 'an', 'be', 'as', 'it', 'from', 'at',\n",
    "           'are', 'has', 'by', 'have', 'this', 'his', 'will', 'its', 'they', 'was', 'or', '-', 's', '\"', 'up', 'do', 'i',\n",
    "           'we', 'us', 'so', 'if', 'my', 'u', \"it's\", 'had', \"'\"]"
   ]
  },
  {
   "cell_type": "code",
   "execution_count": 18,
   "metadata": {},
   "outputs": [
    {
     "name": "stdout",
     "output_type": "stream",
     "text": [
      "[['finding', 'expansive', 'view', 'forgotten', 'people', 'niger', 'one', 'largest', 'photo', 'displays', 'times', 'history', 'people', 'who', 'fled', 'boko', 'haram', 'required', 'effort', 'just', 'immense'], ['now', 'dreaded', 'trump', 'curse', 'meet', 'gang', 'under', 'bus'], ['venezuela’s', 'descent', 'into', 'dictatorship', 'court', 'ruling', 'annulling', 'legislature’s', 'authority', 'represents', 'dangerous', 'turning', 'point', 'venezuela']]\n"
     ]
    }
   ],
   "source": [
    "txt_pp_swr = []\n",
    "\n",
    "for i in txt_pp:\n",
    "    txt_pp_swr.append([word for word in i.split() if word not in stopwords])\n",
    "    \n",
    "print(txt_pp_swr[:3])"
   ]
  },
  {
   "cell_type": "code",
   "execution_count": 28,
   "metadata": {},
   "outputs": [
    {
     "data": {
      "text/plain": [
       "['finding expansive view forgotten people niger one largest photo displays times history people who fled boko haram required effort just immense',\n",
       " 'now dreaded trump curse meet gang under bus']"
      ]
     },
     "execution_count": 28,
     "metadata": {},
     "output_type": "execute_result"
    }
   ],
   "source": [
    "txt_swr=[' '.join(w for w in comm) for comm in txt_pp_swr]\n",
    "txt_swr[:2]"
   ]
  },
  {
   "cell_type": "code",
   "execution_count": 29,
   "metadata": {},
   "outputs": [
    {
     "data": {
      "image/png": "[encoded data removed]",
      "text/plain": [
       "<Figure size 1440x360 with 1 Axes>"
      ]
     },
     "metadata": {
      "needs_background": "light"
     },
     "output_type": "display_data"
    }
   ],
   "source": [
    "freq_words(txt_swr)"
   ]
  },
  {
   "cell_type": "markdown",
   "metadata": {},
   "source": [
    "## POS Tagging and Lemmatization "
   ]
  },
  {
   "cell_type": "code",
   "execution_count": 30,
   "metadata": {},
   "outputs": [],
   "source": [
    "import spacy\n",
    "nlp = spacy.load('en_core_web_sm')\n",
    "from nltk.stem import WordNetLemmatizer\n",
    "from nltk.corpus import wordnet\n",
    "lm = WordNetLemmatizer()"
   ]
  },
  {
   "cell_type": "code",
   "execution_count": 31,
   "metadata": {},
   "outputs": [],
   "source": [
    "to_nltk_tags={\"NOUN\":'n', \"VERB\":'v', \"ADJ\":'a', 'DET':'r',\"CCONJ\":'r', 'ADV':'r', 'ADP':'r', 'PRON':'n',\n",
    "            'PART':'r', 'INTJ':'r', 'NUM':'a', 'PROPN':'n', 'X':'r', \"PUNCT\":'r','SYM':'r'}"
   ]
  },
  {
   "cell_type": "code",
   "execution_count": 32,
   "metadata": {},
   "outputs": [
    {
     "name": "stdout",
     "output_type": "stream",
     "text": [
      "[[('finding', 'v'), ('expansive', 'a'), ('view', 'n'), ('forgotten', 'v'), ('people', 'n'), ('niger', 'a'), ('one', 'a'), ('largest', 'a'), ('photo', 'n'), ('displays', 'n'), ('times', 'r'), ('history', 'n'), ('people', 'n'), ('who', 'n'), ('fled', 'v'), ('boko', 'n'), ('haram', 'n'), ('required', 'v'), ('effort', 'n'), ('just', 'r'), ('immense', 'a')], [('now', 'r'), ('dreaded', 'v'), ('trump', 'n'), ('curse', 'n'), ('meet', 'n'), ('gang', 'n'), ('under', 'r'), ('bus', 'n')], [('venezuela', 'n'), ('’s', 'r'), ('descent', 'n'), ('into', 'r'), ('dictatorship', 'n'), ('court', 'n'), ('ruling', 'n'), ('annulling', 'v'), ('legislature', 'n'), ('’s', 'r'), ('authority', 'n'), ('represents', 'v'), ('dangerous', 'a'), ('turning', 'n'), ('point', 'n'), ('venezuela', 'n')]]\n"
     ]
    }
   ],
   "source": [
    "POS_sp = []\n",
    "for i in range(len(txt_swr)):\n",
    "    tagged_tokens=[]\n",
    "    doc = nlp(txt_swr[i])\n",
    "    for token in doc:\n",
    "        if token.pos_ in to_nltk_tags:\n",
    "            tagged_tokens.append((token.text,to_nltk_tags[token.pos_]))\n",
    "        else: tagged_tokens.append((token.text,'n'))\n",
    "    POS_sp.append(tagged_tokens)\n",
    "\n",
    "print(POS_sp[:3])"
   ]
  },
  {
   "cell_type": "code",
   "execution_count": 37,
   "metadata": {},
   "outputs": [
    {
     "name": "stdout",
     "output_type": "stream",
     "text": [
      "[['find', 'expansive', 'view', 'forget', 'people', 'niger', 'one', 'large', 'photo', 'display', 'times', 'history', 'people', 'who', 'flee', 'boko', 'haram', 'require', 'effort', 'just', 'immense'], ['now', 'dread', 'trump', 'curse', 'meet', 'gang', 'under', 'bus'], ['venezuela', '’s', 'descent', 'into', 'dictatorship', 'court', 'ruling', 'annul', 'legislature', '’s', 'authority', 'represent', 'dangerous', 'turning', 'point', 'venezuela']]\n"
     ]
    }
   ],
   "source": [
    "# Lemmatize\n",
    "txt=[]\n",
    "for i in range(len(POS_sp)):\n",
    "    txt.append([lm.lemmatize(POS_sp[i][w][0], pos=POS_sp[i][w][1]) for w in range(len(POS_sp[i]))])\n",
    "print(txt[:3])"
   ]
  },
  {
   "cell_type": "code",
   "execution_count": 43,
   "metadata": {},
   "outputs": [
    {
     "data": {
      "text/plain": [
       "['find expansive view forget people niger one large photo display times history people who flee boko haram require effort just immense',\n",
       " 'now dread trump curse meet gang under bus',\n",
       " 'venezuela descent into dictatorship court ruling annul legislature authority represent dangerous turning point venezuela']"
      ]
     },
     "execution_count": 43,
     "metadata": {},
     "output_type": "execute_result"
    }
   ],
   "source": [
    "# Remove Short Words & get cleaned text as a list of sentences:\n",
    "cl_txt = [(' '.join(word for word in comm if len(word)>2)) for comm in txt]\n",
    "cl_txt[:3]"
   ]
  },
  {
   "cell_type": "code",
   "execution_count": 46,
   "metadata": {},
   "outputs": [
    {
     "name": "stdout",
     "output_type": "stream",
     "text": [
      "[('trump', 134), ('new', 115), ('but', 103), ('what', 100), ('you', 84)]\n"
     ]
    },
    {
     "data": {
      "image/png": "[encoded data removed]",
      "text/plain": [
       "<Figure size 1440x360 with 1 Axes>"
      ]
     },
     "metadata": {
      "needs_background": "light"
     },
     "output_type": "display_data"
    }
   ],
   "source": [
    "print(freq_words_count(cl_txt)[:5])\n",
    "freq_words(cl_txt)"
   ]
  },
  {
   "cell_type": "code",
   "execution_count": null,
   "metadata": {},
   "outputs": [],
   "source": []
  }
 ],
 "metadata": {
  "kernelspec": {
   "display_name": "Python 3",
   "language": "python",
   "name": "python3"
  },
  "language_info": {
   "codemirror_mode": {
    "name": "ipython",
    "version": 3
   },
   "file_extension": ".py",
   "mimetype": "text/x-python",
   "name": "python",
   "nbconvert_exporter": "python",
   "pygments_lexer": "ipython3",
   "version": "3.7.1"
  }
 },
 "nbformat": 4,
 "nbformat_minor": 2
}
